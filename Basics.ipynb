{
 "cells": [
  {
   "cell_type": "markdown",
   "metadata": {},
   "source": [
    "1. What kind of questions are welcome on this site?\n",
    "People can ask any kind of questions on Stack Exchange websites, from seeking solution to a problem, to general discussion around one topic.\n",
    "Data Science Stack Exchange (DSSE) particularly focus on questions about an actual problem you have faced. Include details about what you have tried and exactly what you are trying to do.\n",
    "\n",
    "2. What, other than questions, does the site's home subdivide into?\n",
    "Stack Overflow site also provide job listings, talent solutions and advertising platform. DSSE also links to Stack Overflow job listing page.\n",
    "\n",
    "3. Does any content look useful towards our goal?\n",
    "The Q & A seems to be useful towards our goal as we can determine which topic received most questions, which questions received most answers/views.\n",
    "\n",
    "4. What information is available in each post?\n",
    "Title, tags, question and description of the problem, number of votes for posts, number of views, replies to question, comments, replies to comments, number of votes for replies/comments."
   ]
  },
  {
   "cell_type": "markdown",
   "metadata": {},
   "source": [
    "After exploring DSSE two tables (Posts and Tags), focusing on ViewCount, Score, FavoriteCount, TagName, Count columns, I found that Python is the most popular programmin language and machine learning, neural network, deep learning are the most popular topics discussed on this website."
   ]
  },
  {
   "cell_type": "code",
   "execution_count": 1,
   "metadata": {
    "collapsed": false
   },
   "outputs": [],
   "source": [
    "import pandas as pd\n",
    "dsse_posts = pd.read_csv('2019_questions.csv', parse_dates=['CreationDate'])"
   ]
  },
  {
   "cell_type": "code",
   "execution_count": 2,
   "metadata": {
    "collapsed": false
   },
   "outputs": [
    {
     "name": "stdout",
     "output_type": "stream",
     "text": [
      "<class 'pandas.core.frame.DataFrame'>\n",
      "RangeIndex: 8839 entries, 0 to 8838\n",
      "Data columns (total 7 columns):\n",
      "Id               8839 non-null int64\n",
      "CreationDate     8839 non-null datetime64[ns]\n",
      "Score            8839 non-null int64\n",
      "ViewCount        8839 non-null int64\n",
      "Tags             8839 non-null object\n",
      "AnswerCount      8839 non-null int64\n",
      "FavoriteCount    1407 non-null float64\n",
      "dtypes: datetime64[ns](1), float64(1), int64(4), object(1)\n",
      "memory usage: 483.5+ KB\n"
     ]
    }
   ],
   "source": [
    "dsse_posts.info()"
   ]
  },
  {
   "cell_type": "markdown",
   "metadata": {},
   "source": [
    "- All columns except FavoriteCount has no missing values. FavoriteCount has 7432 missing values.\n",
    "- We can fill missing values in FavoriteCount with 0.\n",
    "- The FavoriteCount column type is float, so we should convert to integer. Other column type seems ok.\n",
    "- The Tags column also contains special characters like '<','>' and '-'. We should remove these characters to make it easier to work with."
   ]
  },
  {
   "cell_type": "code",
   "execution_count": 3,
   "metadata": {
    "collapsed": false
   },
   "outputs": [],
   "source": [
    "dsse_posts.fillna(0, axis=1, inplace=True)"
   ]
  },
  {
   "cell_type": "code",
   "execution_count": 4,
   "metadata": {
    "collapsed": true
   },
   "outputs": [],
   "source": [
    "dsse_posts['FavoriteCount'] = dsse_posts['FavoriteCount'].astype(int)"
   ]
  },
  {
   "cell_type": "code",
   "execution_count": 5,
   "metadata": {
    "collapsed": false
   },
   "outputs": [
    {
     "name": "stdout",
     "output_type": "stream",
     "text": [
      "<class 'pandas.core.frame.DataFrame'>\n",
      "RangeIndex: 8839 entries, 0 to 8838\n",
      "Data columns (total 7 columns):\n",
      "Id               8839 non-null int64\n",
      "CreationDate     8839 non-null datetime64[ns]\n",
      "Score            8839 non-null int64\n",
      "ViewCount        8839 non-null int64\n",
      "Tags             8839 non-null object\n",
      "AnswerCount      8839 non-null int64\n",
      "FavoriteCount    8839 non-null int64\n",
      "dtypes: datetime64[ns](1), int64(5), object(1)\n",
      "memory usage: 483.5+ KB\n"
     ]
    }
   ],
   "source": [
    "dsse_posts.info()"
   ]
  },
  {
   "cell_type": "code",
   "execution_count": 6,
   "metadata": {
    "collapsed": false
   },
   "outputs": [],
   "source": [
    "dsse_posts['Tags'] = dsse_posts['Tags'].str.rstrip('>').str.replace('>',',').str.replace('<','').str.split(',')"
   ]
  },
  {
   "cell_type": "code",
   "execution_count": 7,
   "metadata": {
    "collapsed": false,
    "scrolled": false
   },
   "outputs": [
    {
     "name": "stdout",
     "output_type": "stream",
     "text": [
      "0                      [machine-learning, data-mining]\n",
      "1    [machine-learning, regression, linear-regressi...\n",
      "2         [python, time-series, forecast, forecasting]\n",
      "3                [machine-learning, scikit-learn, pca]\n",
      "4             [dataset, bigdata, data, speech-to-text]\n",
      "Name: Tags, dtype: object\n"
     ]
    }
   ],
   "source": [
    "print(dsse_posts['Tags'].head())"
   ]
  },
  {
   "cell_type": "code",
   "execution_count": 8,
   "metadata": {
    "collapsed": false
   },
   "outputs": [
    {
     "name": "stdout",
     "output_type": "stream",
     "text": [
      "0     True\n",
      "1     True\n",
      "2    False\n",
      "3     True\n",
      "4    False\n",
      "Name: Tags, dtype: bool\n",
      "2693\n",
      "388499\n"
     ]
    }
   ],
   "source": [
    "tag = 'machine-learning'\n",
    "tag_bool = dsse_posts['Tags'].apply(lambda t: tag in t)\n",
    "tag_used = tag_bool.sum()\n",
    "tag_viewed = dsse_posts[tag_bool]['ViewCount'].sum()\n",
    "print(tag_bool.head())\n",
    "print(tag_used)\n",
    "print(tag_viewed)"
   ]
  },
  {
   "cell_type": "code",
   "execution_count": 9,
   "metadata": {
    "collapsed": false
   },
   "outputs": [
    {
     "name": "stdout",
     "output_type": "stream",
     "text": [
      "{'java': {'viewed': 0, 'used': 0}, 'refit-model': {'viewed': 0, 'used': 0}, 'xboost': {'viewed': 0, 'used': 0}, 'convolution': {'viewed': 0, 'used': 0}, 'hurdle-model': {'viewed': 0, 'used': 0}, 'overfitting': {'viewed': 0, 'used': 0}, 'dplyr': {'viewed': 0, 'used': 0}, 'openai-gym': {'viewed': 0, 'used': 0}, 'sagemaker': {'viewed': 0, 'used': 0}, 'sequence-to-sequence': {'viewed': 0, 'used': 0}, 'gaussian': {'viewed': 0, 'used': 0}, 'tokenization': {'viewed': 0, 'used': 0}, 'weka': {'viewed': 0, 'used': 0}, 'matrix': {'viewed': 0, 'used': 0}, 'discriminant-analysis': {'viewed': 0, 'used': 0}, 'online-learning': {'viewed': 0, 'used': 0}, 'experiments': {'viewed': 0, 'used': 0}, 'implementation': {'viewed': 0, 'used': 0}, 'svm': {'viewed': 0, 'used': 0}, 'ensemble-modeling': {'viewed': 0, 'used': 0}, 'linux': {'viewed': 0, 'used': 0}, 'image-recognition': {'viewed': 0, 'used': 0}, 'feature-reduction': {'viewed': 0, 'used': 0}, 'mutual-information': {'viewed': 0, 'used': 0}, 'search': {'viewed': 0, 'used': 0}, 'python': {'viewed': 0, 'used': 0}, 'aggregation': {'viewed': 0, 'used': 0}, 'dialog-flow': {'viewed': 0, 'used': 0}, 'hyperparameter': {'viewed': 0, 'used': 0}, 'efficiency': {'viewed': 0, 'used': 0}, 'predict': {'viewed': 0, 'used': 0}, 'decision-trees': {'viewed': 0, 'used': 0}, 'speech-to-text': {'viewed': 0, 'used': 0}, 'automation': {'viewed': 0, 'used': 0}, 'seaborn': {'viewed': 0, 'used': 0}, 'rbf': {'viewed': 0, 'used': 0}, 'gridsearchcv': {'viewed': 0, 'used': 0}, 'tools': {'viewed': 0, 'used': 0}, 'encoder': {'viewed': 0, 'used': 0}, 'search-engine': {'viewed': 0, 'used': 0}, 'faster-rcnn': {'viewed': 0, 'used': 0}, 'loss-function': {'viewed': 0, 'used': 0}, 'history': {'viewed': 0, 'used': 0}, 'multivariate-distribution': {'viewed': 0, 'used': 0}, 'generalization': {'viewed': 0, 'used': 0}, 'sentiment-analysis': {'viewed': 0, 'used': 0}, 'nlg': {'viewed': 0, 'used': 0}, 'visualization': {'viewed': 0, 'used': 0}, 'methodology': {'viewed': 0, 'used': 0}, 'regularization': {'viewed': 0, 'used': 0}, 'self-study': {'viewed': 0, 'used': 0}, 'pattern-recognition': {'viewed': 0, 'used': 0}, 'smotenc': {'viewed': 0, 'used': 0}, 'convergence': {'viewed': 0, 'used': 0}, 'dqn': {'viewed': 0, 'used': 0}, 'education': {'viewed': 0, 'used': 0}, 'transformer': {'viewed': 0, 'used': 0}, 'machine-learning-model': {'viewed': 0, 'used': 0}, 'labels': {'viewed': 0, 'used': 0}, 'matlab': {'viewed': 0, 'used': 0}, 'ndcg': {'viewed': 0, 'used': 0}, 'finetuning': {'viewed': 0, 'used': 0}, 'beginner': {'viewed': 0, 'used': 0}, 'sematic-similarity': {'viewed': 0, 'used': 0}, 'clusters': {'viewed': 0, 'used': 0}, 'chatbot': {'viewed': 0, 'used': 0}, 'data-augmentation': {'viewed': 0, 'used': 0}, 'software-recommendation': {'viewed': 0, 'used': 0}, 'object-detection': {'viewed': 0, 'used': 0}, 'score': {'viewed': 0, 'used': 0}, 'transfer-learning': {'viewed': 0, 'used': 0}, 'crawling': {'viewed': 0, 'used': 0}, 'networkx': {'viewed': 0, 'used': 0}, 'tfidf': {'viewed': 0, 'used': 0}, 'word2vec': {'viewed': 0, 'used': 0}, 'perceptron': {'viewed': 0, 'used': 0}, 'linear-algebra': {'viewed': 0, 'used': 0}, 'estimators': {'viewed': 0, 'used': 0}, 'data-science-model': {'viewed': 0, 'used': 0}, 'missing-data': {'viewed': 0, 'used': 0}, 'image': {'viewed': 0, 'used': 0}, 'metadata': {'viewed': 0, 'used': 0}, 'survival-analysis': {'viewed': 0, 'used': 0}, 'epochs': {'viewed': 0, 'used': 0}, 'distribution': {'viewed': 0, 'used': 0}, 'time': {'viewed': 0, 'used': 0}, 'evolutionary-algorithms': {'viewed': 0, 'used': 0}, 'pandas': {'viewed': 0, 'used': 0}, 'sequence': {'viewed': 0, 'used': 0}, 'data-cleaning': {'viewed': 0, 'used': 0}, 'cloud': {'viewed': 0, 'used': 0}, 'self-driving': {'viewed': 0, 'used': 0}, 'finance': {'viewed': 0, 'used': 0}, 'spearmans-rank-correlation': {'viewed': 0, 'used': 0}, 'data-imputation': {'viewed': 0, 'used': 0}, 'scipy': {'viewed': 0, 'used': 0}, 'batch-normalization': {'viewed': 0, 'used': 0}, 'c': {'viewed': 0, 'used': 0}, 'automatic-summarization': {'viewed': 0, 'used': 0}, 'named-entity-recognition': {'viewed': 0, 'used': 0}, 'amazon-ml': {'viewed': 0, 'used': 0}, 'keras': {'viewed': 0, 'used': 0}, 'goss': {'viewed': 0, 'used': 0}, 'classifier': {'viewed': 0, 'used': 0}, 'spyder': {'viewed': 0, 'used': 0}, 'yolo': {'viewed': 0, 'used': 0}, 'graphs': {'viewed': 0, 'used': 0}, 'k-nn': {'viewed': 0, 'used': 0}, 'causalimpact': {'viewed': 0, 'used': 0}, 'summarunner-architecture': {'viewed': 0, 'used': 0}, 'research': {'viewed': 0, 'used': 0}, 'cross-validation': {'viewed': 0, 'used': 0}, 'pytorch': {'viewed': 0, 'used': 0}, 'pytorch-geometric': {'viewed': 0, 'used': 0}, 'data-indexing-techniques': {'viewed': 0, 'used': 0}, 'text-mining': {'viewed': 0, 'used': 0}, 'prediction': {'viewed': 0, 'used': 0}, 'scikit-learn': {'viewed': 0, 'used': 0}, 'ggplot2': {'viewed': 0, 'used': 0}, 'hog': {'viewed': 0, 'used': 0}, 'fuzzy-classification': {'viewed': 0, 'used': 0}, 'etl': {'viewed': 0, 'used': 0}, 'optimization': {'viewed': 0, 'used': 0}, 'normal-equation': {'viewed': 0, 'used': 0}, 'explainable-ai': {'viewed': 0, 'used': 0}, 'cloud-computing': {'viewed': 0, 'used': 0}, 'parameter-estimation': {'viewed': 0, 'used': 0}, 'web-scrapping': {'viewed': 0, 'used': 0}, 'text-classification': {'viewed': 0, 'used': 0}, 'kendalls-tau-coefficient': {'viewed': 0, 'used': 0}, 'exploitation': {'viewed': 0, 'used': 0}, 'genetic-programming': {'viewed': 0, 'used': 0}, 'markov-process': {'viewed': 0, 'used': 0}, 'allennlp': {'viewed': 0, 'used': 0}, 'weighted-data': {'viewed': 0, 'used': 0}, 'text': {'viewed': 0, 'used': 0}, 'semi-supervised-learning': {'viewed': 0, 'used': 0}, 'attention-mechanism': {'viewed': 0, 'used': 0}, 'dataframe': {'viewed': 0, 'used': 0}, 'representation': {'viewed': 0, 'used': 0}, 'multi-output': {'viewed': 0, 'used': 0}, 'pathfinder': {'viewed': 0, 'used': 0}, 'powerbi': {'viewed': 0, 'used': 0}, 'matrix-factorisation': {'viewed': 0, 'used': 0}, 'proximal-svm': {'viewed': 0, 'used': 0}, 'markov-hidden-model': {'viewed': 0, 'used': 0}, 'time-series': {'viewed': 0, 'used': 0}, 'correlation': {'viewed': 0, 'used': 0}, 'dbscan': {'viewed': 0, 'used': 0}, 'dump': {'viewed': 0, 'used': 0}, 'vae': {'viewed': 0, 'used': 0}, 'theory': {'viewed': 0, 'used': 0}, 'frequentist': {'viewed': 0, 'used': 0}, 'indexing': {'viewed': 0, 'used': 0}, 'methods': {'viewed': 0, 'used': 0}, 'google-prediction-api': {'viewed': 0, 'used': 0}, 'ipython': {'viewed': 0, 'used': 0}, 'noise': {'viewed': 0, 'used': 0}, 'image-size': {'viewed': 0, 'used': 0}, '3d-reconstruction': {'viewed': 0, 'used': 0}, 'inceptionresnetv2': {'viewed': 0, 'used': 0}, 'accuracy': {'viewed': 0, 'used': 0}, 'noisification': {'viewed': 0, 'used': 0}, 'game': {'viewed': 0, 'used': 0}, 'outlier': {'viewed': 0, 'used': 0}, 'data-stream-mining': {'viewed': 0, 'used': 0}, 'bayesian-nonparametric': {'viewed': 0, 'used': 0}, 'similarity': {'viewed': 0, 'used': 0}, 'definitions': {'viewed': 0, 'used': 0}, 'map-reduce': {'viewed': 0, 'used': 0}, 'javascript': {'viewed': 0, 'used': 0}, 'categorical-data': {'viewed': 0, 'used': 0}, 'pipelines': {'viewed': 0, 'used': 0}, 'one-shot-learning': {'viewed': 0, 'used': 0}, 'statistics': {'viewed': 0, 'used': 0}, 'regression': {'viewed': 0, 'used': 0}, 'competitions': {'viewed': 0, 'used': 0}, 'jupyter': {'viewed': 0, 'used': 0}, 'encoding': {'viewed': 0, 'used': 0}, 'mlp': {'viewed': 0, 'used': 0}, 'weight-initialization': {'viewed': 0, 'used': 0}, 'parallel': {'viewed': 0, 'used': 0}, 'c++': {'viewed': 0, 'used': 0}, 'privacy': {'viewed': 0, 'used': 0}, 'topic-model': {'viewed': 0, 'used': 0}, 'json': {'viewed': 0, 'used': 0}, 'numpy': {'viewed': 0, 'used': 0}, 'parsing': {'viewed': 0, 'used': 0}, 'vgg16': {'viewed': 0, 'used': 0}, 'recommender-system': {'viewed': 0, 'used': 0}, 'marginal-effects': {'viewed': 0, 'used': 0}, 'lasso': {'viewed': 0, 'used': 0}, 'policy-gradients': {'viewed': 0, 'used': 0}, 'sql': {'viewed': 0, 'used': 0}, 'stacked-lstm': {'viewed': 0, 'used': 0}, 'ibm-watson': {'viewed': 0, 'used': 0}, 'aws-lambda': {'viewed': 0, 'used': 0}, 'image-preprocessing': {'viewed': 0, 'used': 0}, 'sequential-pattern-mining': {'viewed': 0, 'used': 0}, 'audio-recognition': {'viewed': 0, 'used': 0}, 'orange3': {'viewed': 0, 'used': 0}, 'tensorflow': {'viewed': 0, 'used': 0}, 'rbm': {'viewed': 0, 'used': 0}, 'probability': {'viewed': 0, 'used': 0}, 'least-squares-svm': {'viewed': 0, 'used': 0}, 'mse': {'viewed': 0, 'used': 0}, 'notation': {'viewed': 0, 'used': 0}, 'features': {'viewed': 0, 'used': 0}, 'regex': {'viewed': 0, 'used': 0}, 'ml': {'viewed': 0, 'used': 0}, 'dirichlet': {'viewed': 0, 'used': 0}, 'image-segmentation': {'viewed': 0, 'used': 0}, 'nvidia': {'viewed': 0, 'used': 0}, 'forecasting': {'viewed': 0, 'used': 0}, 'discounted-reward': {'viewed': 0, 'used': 0}, 'feature-construction': {'viewed': 0, 'used': 0}, 'siamese': {'viewed': 0, 'used': 0}, 'sparsity': {'viewed': 0, 'used': 0}, 'markov': {'viewed': 0, 'used': 0}, 'multitask-learning': {'viewed': 0, 'used': 0}, 'matplotlib': {'viewed': 0, 'used': 0}, 'market-basket-analysis': {'viewed': 0, 'used': 0}, 'bioinformatics': {'viewed': 0, 'used': 0}, 'normalization': {'viewed': 0, 'used': 0}, 'libsvm': {'viewed': 0, 'used': 0}, 'collinearity': {'viewed': 0, 'used': 0}, 'information-retrieval': {'viewed': 0, 'used': 0}, '.net': {'viewed': 0, 'used': 0}, 'apache-nifi': {'viewed': 0, 'used': 0}, 'bias': {'viewed': 0, 'used': 0}, 'mini-batch-gradient-descent': {'viewed': 0, 'used': 0}, 'software-development': {'viewed': 0, 'used': 0}, 'knime': {'viewed': 0, 'used': 0}, 'marketing': {'viewed': 0, 'used': 0}, '3d-object-detection': {'viewed': 0, 'used': 0}, 'learning-rate': {'viewed': 0, 'used': 0}, 'svr': {'viewed': 0, 'used': 0}, 'apache-hadoop': {'viewed': 0, 'used': 0}, 'non-parametric': {'viewed': 0, 'used': 0}, 'deep-network': {'viewed': 0, 'used': 0}, 'lightgbm': {'viewed': 0, 'used': 0}, 'meta-learning': {'viewed': 0, 'used': 0}, 'pgm': {'viewed': 0, 'used': 0}, 'simulation': {'viewed': 0, 'used': 0}, 'hardware': {'viewed': 0, 'used': 0}, 'colab': {'viewed': 0, 'used': 0}, 'paperspace': {'viewed': 0, 'used': 0}, 'naive-bayes-classifier': {'viewed': 0, 'used': 0}, 'glm': {'viewed': 0, 'used': 0}, 'cost-function': {'viewed': 0, 'used': 0}, 'gan': {'viewed': 0, 'used': 0}, 'language-model': {'viewed': 0, 'used': 0}, 'jaccard-coefficient': {'viewed': 0, 'used': 0}, 'spacy': {'viewed': 0, 'used': 0}, 'cosine-distance': {'viewed': 0, 'used': 0}, 'ai': {'viewed': 0, 'used': 0}, 'information-theory': {'viewed': 0, 'used': 0}, 'non-convex': {'viewed': 0, 'used': 0}, 'categories': {'viewed': 0, 'used': 0}, 'rmse': {'viewed': 0, 'used': 0}, 'anomaly-detection': {'viewed': 0, 'used': 0}, 'csv': {'viewed': 0, 'used': 0}, 'programming': {'viewed': 0, 'used': 0}, 'siamese-networks': {'viewed': 0, 'used': 0}, 'scoring': {'viewed': 0, 'used': 0}, 'infographics': {'viewed': 0, 'used': 0}, 'geospatial': {'viewed': 0, 'used': 0}, 'model-selection': {'viewed': 0, 'used': 0}, 'pca': {'viewed': 0, 'used': 0}, 'sensors': {'viewed': 0, 'used': 0}, 'mcmc': {'viewed': 0, 'used': 0}, 'nosql': {'viewed': 0, 'used': 0}, 'spss': {'viewed': 0, 'used': 0}, 'twitter': {'viewed': 0, 'used': 0}, 'terminology': {'viewed': 0, 'used': 0}, 'career': {'viewed': 0, 'used': 0}, 'machine-translation': {'viewed': 0, 'used': 0}, 'manhattan': {'viewed': 0, 'used': 0}, 'vc-theory': {'viewed': 0, 'used': 0}, 'imbalanced-learn': {'viewed': 0, 'used': 0}, 'unbalanced-classes': {'viewed': 0, 'used': 0}, 'library': {'viewed': 0, 'used': 0}, 'social-network-analysis': {'viewed': 0, 'used': 0}, 'ensemble-learning': {'viewed': 0, 'used': 0}, 'openai-gpt': {'viewed': 0, 'used': 0}, 'learning': {'viewed': 0, 'used': 0}, 'activity-recognition': {'viewed': 0, 'used': 0}, 'dummy-variables': {'viewed': 0, 'used': 0}, 'scraping': {'viewed': 0, 'used': 0}, 'feature-scaling': {'viewed': 0, 'used': 0}, 'serialisation': {'viewed': 0, 'used': 0}, 'mathematics': {'viewed': 0, 'used': 0}, 'bayesian-networks': {'viewed': 0, 'used': 0}, 'graphical-model': {'viewed': 0, 'used': 0}, 'stemming': {'viewed': 0, 'used': 0}, 'randomized-algorithms': {'viewed': 0, 'used': 0}, 'dataset': {'viewed': 0, 'used': 0}, 'difference': {'viewed': 0, 'used': 0}, 'heatmap': {'viewed': 0, 'used': 0}, 'preprocessing': {'viewed': 0, 'used': 0}, 'vector-space-models': {'viewed': 0, 'used': 0}, 'hinge-loss': {'viewed': 0, 'used': 0}, 'stanford-nlp': {'viewed': 0, 'used': 0}, 'pooling': {'viewed': 0, 'used': 0}, 'class-imbalance': {'viewed': 0, 'used': 0}, 'bert': {'viewed': 0, 'used': 0}, 'usecase': {'viewed': 0, 'used': 0}, 'lstm': {'viewed': 0, 'used': 0}, 'image-classification': {'viewed': 0, 'used': 0}, 'mnist': {'viewed': 0, 'used': 0}, 'ab-test': {'viewed': 0, 'used': 0}, 'neural-network': {'viewed': 0, 'used': 0}, 'unseen-data': {'viewed': 0, 'used': 0}, 'statsmodels': {'viewed': 0, 'used': 0}, 'active-learning': {'viewed': 0, 'used': 0}, 'rdkit': {'viewed': 0, 'used': 0}, 'churn': {'viewed': 0, 'used': 0}, 'one-hot-encoding': {'viewed': 0, 'used': 0}, 'dropout': {'viewed': 0, 'used': 0}, 'association-rules': {'viewed': 0, 'used': 0}, 'ranking': {'viewed': 0, 'used': 0}, 'state-of-the-art': {'viewed': 0, 'used': 0}, 'rnn': {'viewed': 0, 'used': 0}, 'forecast': {'viewed': 0, 'used': 0}, 'theano': {'viewed': 0, 'used': 0}, 'movielens': {'viewed': 0, 'used': 0}, 'pip': {'viewed': 0, 'used': 0}, 'data-wrangling': {'viewed': 0, 'used': 0}, 'project-planning': {'viewed': 0, 'used': 0}, 'reference-request': {'viewed': 0, 'used': 0}, 'open-source': {'viewed': 0, 'used': 0}, 'ridge-regression': {'viewed': 0, 'used': 0}, 'structured-data': {'viewed': 0, 'used': 0}, 'community': {'viewed': 0, 'used': 0}, 'descriptive-statistics': {'viewed': 0, 'used': 0}, 'finite-precision': {'viewed': 0, 'used': 0}, 'feature-map': {'viewed': 0, 'used': 0}, 'supervised-learning': {'viewed': 0, 'used': 0}, 'autoencoder': {'viewed': 0, 'used': 0}, 'probabilistic-programming': {'viewed': 0, 'used': 0}, 'opencv': {'viewed': 0, 'used': 0}, 'q-learning': {'viewed': 0, 'used': 0}, 'feature-extraction': {'viewed': 0, 'used': 0}, 'ocr': {'viewed': 0, 'used': 0}, 'recurrent-neural-net': {'viewed': 0, 'used': 0}, 'confusion-matrix': {'viewed': 0, 'used': 0}, 'lbp': {'viewed': 0, 'used': 0}, 'word': {'viewed': 0, 'used': 0}, 'parquet': {'viewed': 0, 'used': 0}, 'mean-shift': {'viewed': 0, 'used': 0}, 'anova': {'viewed': 0, 'used': 0}, 'ensemble': {'viewed': 0, 'used': 0}, 'multilabel-classification': {'viewed': 0, 'used': 0}, 'reshape': {'viewed': 0, 'used': 0}, 'math': {'viewed': 0, 'used': 0}, 'impala': {'viewed': 0, 'used': 0}, 'softmax': {'viewed': 0, 'used': 0}, 'label-flipping': {'viewed': 0, 'used': 0}, 'computer-vision': {'viewed': 0, 'used': 0}, 'word-embeddings': {'viewed': 0, 'used': 0}, 'nl2sql': {'viewed': 0, 'used': 0}, 'version-control': {'viewed': 0, 'used': 0}, 'management': {'viewed': 0, 'used': 0}, 'evaluation': {'viewed': 0, 'used': 0}, 'google-cloud': {'viewed': 0, 'used': 0}, 'lda': {'viewed': 0, 'used': 0}, 'genetic-algorithms': {'viewed': 0, 'used': 0}, 'reinforcement-learning': {'viewed': 0, 'used': 0}, 'feature-engineering': {'viewed': 0, 'used': 0}, 'tableau': {'viewed': 0, 'used': 0}, 'coursera': {'viewed': 0, 'used': 0}, 'sports': {'viewed': 0, 'used': 0}, 'algorithms': {'viewed': 0, 'used': 0}, 'gpu': {'viewed': 0, 'used': 0}, 'data-formats': {'viewed': 0, 'used': 0}, 'redshift': {'viewed': 0, 'used': 0}, 'learning-to-rank': {'viewed': 0, 'used': 0}, 'octave': {'viewed': 0, 'used': 0}, 'automl': {'viewed': 0, 'used': 0}, 'excel': {'viewed': 0, 'used': 0}, 'data': {'viewed': 0, 'used': 0}, 'data.table': {'viewed': 0, 'used': 0}, 'google': {'viewed': 0, 'used': 0}, 'consumerweb': {'viewed': 0, 'used': 0}, 'multiclass-classification': {'viewed': 0, 'used': 0}, 'anonymization': {'viewed': 0, 'used': 0}, 'feature-selection': {'viewed': 0, 'used': 0}, 'counts': {'viewed': 0, 'used': 0}, 'james-stein-encoder': {'viewed': 0, 'used': 0}, 'clustering': {'viewed': 0, 'used': 0}, 'groupby': {'viewed': 0, 'used': 0}, 'question-answering': {'viewed': 0, 'used': 0}, 'anomaly': {'viewed': 0, 'used': 0}, 'backpropagation': {'viewed': 0, 'used': 0}, 'deep-learning': {'viewed': 0, 'used': 0}, 'ann': {'viewed': 0, 'used': 0}, 'machine-learning': {'viewed': 0, 'used': 0}, 'plotting': {'viewed': 0, 'used': 0}, 'training': {'viewed': 0, 'used': 0}, 'hierarchical-data-format': {'viewed': 0, 'used': 0}, 'gmm': {'viewed': 0, 'used': 0}, 'categorical-encoding': {'viewed': 0, 'used': 0}, 'tesseract': {'viewed': 0, 'used': 0}, 'sampling': {'viewed': 0, 'used': 0}, 'deepmind': {'viewed': 0, 'used': 0}, 'fuzzy-logic': {'viewed': 0, 'used': 0}, 'predictive-modeling': {'viewed': 0, 'used': 0}, 'nlp': {'viewed': 0, 'used': 0}, 'caffe': {'viewed': 0, 'used': 0}, 'scalability': {'viewed': 0, 'used': 0}, 'books': {'viewed': 0, 'used': 0}, 'bigdata': {'viewed': 0, 'used': 0}, 'activation-function': {'viewed': 0, 'used': 0}, 'apache-spark': {'viewed': 0, 'used': 0}, 'logistic-regression': {'viewed': 0, 'used': 0}, 'gaussian-process': {'viewed': 0, 'used': 0}, 'numerical': {'viewed': 0, 'used': 0}, 'interpolation': {'viewed': 0, 'used': 0}, 'rstudio': {'viewed': 0, 'used': 0}, 'smote': {'viewed': 0, 'used': 0}, 'gru': {'viewed': 0, 'used': 0}, 'adaboost': {'viewed': 0, 'used': 0}, 'predictor-importance': {'viewed': 0, 'used': 0}, 'tsne': {'viewed': 0, 'used': 0}, 'data-product': {'viewed': 0, 'used': 0}, 'wolfram-language': {'viewed': 0, 'used': 0}, 'data-mining': {'viewed': 0, 'used': 0}, 'grid-search': {'viewed': 0, 'used': 0}, 'manifold': {'viewed': 0, 'used': 0}, 'torch': {'viewed': 0, 'used': 0}, 'density-estimation': {'viewed': 0, 'used': 0}, 'r': {'viewed': 0, 'used': 0}, 'sas': {'viewed': 0, 'used': 0}, 'inception': {'viewed': 0, 'used': 0}, 'gensim': {'viewed': 0, 'used': 0}, 'distributed': {'viewed': 0, 'used': 0}, 'gbm': {'viewed': 0, 'used': 0}, 'classification': {'viewed': 0, 'used': 0}, 'pruning': {'viewed': 0, 'used': 0}, 'haar-cascade': {'viewed': 0, 'used': 0}, 'monte-carlo': {'viewed': 0, 'used': 0}, 'text-generation': {'viewed': 0, 'used': 0}, 'nn': {'viewed': 0, 'used': 0}, 'processing': {'viewed': 0, 'used': 0}, 'distance': {'viewed': 0, 'used': 0}, 'linear-regression': {'viewed': 0, 'used': 0}, 'expectation-maximization': {'viewed': 0, 'used': 0}, 'doc2vec': {'viewed': 0, 'used': 0}, 'embeddings': {'viewed': 0, 'used': 0}, 'orange': {'viewed': 0, 'used': 0}, 'kernel': {'viewed': 0, 'used': 0}, 'ngrams': {'viewed': 0, 'used': 0}, 'open-set': {'viewed': 0, 'used': 0}, 'k-means': {'viewed': 0, 'used': 0}, 'pearsons-correlation-coefficient': {'viewed': 0, 'used': 0}, 'unsupervised-learning': {'viewed': 0, 'used': 0}, 'similar-documents': {'viewed': 0, 'used': 0}, 'wikipedia': {'viewed': 0, 'used': 0}, 'aws': {'viewed': 0, 'used': 0}, 'alex-net': {'viewed': 0, 'used': 0}, 'gradient-descent': {'viewed': 0, 'used': 0}, 'parameter': {'viewed': 0, 'used': 0}, 'cs231n': {'viewed': 0, 'used': 0}, 'error-handling': {'viewed': 0, 'used': 0}, 'data-transfer': {'viewed': 0, 'used': 0}, 'xgboost': {'viewed': 0, 'used': 0}, 'variance': {'viewed': 0, 'used': 0}, 'historgram': {'viewed': 0, 'used': 0}, 'actor-critic': {'viewed': 0, 'used': 0}, 'natural-language-process': {'viewed': 0, 'used': 0}, 'nltk': {'viewed': 0, 'used': 0}, 'object-recognition': {'viewed': 0, 'used': 0}, 'counter-inference': {'viewed': 0, 'used': 0}, 'momentum': {'viewed': 0, 'used': 0}, 'label-smoothing': {'viewed': 0, 'used': 0}, 'annotation': {'viewed': 0, 'used': 0}, 'mongodb': {'viewed': 0, 'used': 0}, 'pickle': {'viewed': 0, 'used': 0}, 'activation': {'viewed': 0, 'used': 0}, 'neural': {'viewed': 0, 'used': 0}, 'julia': {'viewed': 0, 'used': 0}, 'binary': {'viewed': 0, 'used': 0}, 'performance': {'viewed': 0, 'used': 0}, 'python-3.x': {'viewed': 0, 'used': 0}, 'arima': {'viewed': 0, 'used': 0}, 'data-analysis': {'viewed': 0, 'used': 0}, 'pac-learning': {'viewed': 0, 'used': 0}, 'cnn': {'viewed': 0, 'used': 0}, 'lda-classifier': {'viewed': 0, 'used': 0}, 'boosting': {'viewed': 0, 'used': 0}, 'kitti-dataset': {'viewed': 0, 'used': 0}, 'relational-dbms': {'viewed': 0, 'used': 0}, 'fastai': {'viewed': 0, 'used': 0}, 'pyspark': {'viewed': 0, 'used': 0}, 'huggingface': {'viewed': 0, 'used': 0}, 'generative-models': {'viewed': 0, 'used': 0}, 'text-filter': {'viewed': 0, 'used': 0}, 'dynamic-programming': {'viewed': 0, 'used': 0}, 'rmsle': {'viewed': 0, 'used': 0}, 'random-forest': {'viewed': 0, 'used': 0}, 'domain-adaptation': {'viewed': 0, 'used': 0}, 'metric': {'viewed': 0, 'used': 0}, 'hive': {'viewed': 0, 'used': 0}, 'probability-calibration': {'viewed': 0, 'used': 0}, 'azure-ml': {'viewed': 0, 'used': 0}, 'helmert-coding': {'viewed': 0, 'used': 0}, 'objective-function': {'viewed': 0, 'used': 0}, 'h2o': {'viewed': 0, 'used': 0}, 'scala': {'viewed': 0, 'used': 0}, 'corpus': {'viewed': 0, 'used': 0}, 'code': {'viewed': 0, 'used': 0}, 'bayesian': {'viewed': 0, 'used': 0}, 'hyperparameter-tuning': {'viewed': 0, 'used': 0}, 'kaggle': {'viewed': 0, 'used': 0}, 'keras-rl': {'viewed': 0, 'used': 0}, 'data-leakage': {'viewed': 0, 'used': 0}, 'databases': {'viewed': 0, 'used': 0}, 'neural-style-transfer': {'viewed': 0, 'used': 0}, 'cause-effect-relations': {'viewed': 0, 'used': 0}, 'convnet': {'viewed': 0, 'used': 0}, 'dimensionality-reduction': {'viewed': 0, 'used': 0}, 'homework': {'viewed': 0, 'used': 0}, 'bayes-error': {'viewed': 0, 'used': 0}, 'auc': {'viewed': 0, 'used': 0}, 'multi-instance-learning': {'viewed': 0, 'used': 0}, 'anaconda': {'viewed': 0, 'used': 0}}\n"
     ]
    }
   ],
   "source": [
    "tags_dict = {}\n",
    "for t in dsse_posts['Tags']:\n",
    "    for w in t:\n",
    "         if w not in tags_dict:\n",
    "            tags_dict[w] = {'used':0, 'viewed':0}\n",
    "print(tags_dict)"
   ]
  },
  {
   "cell_type": "code",
   "execution_count": 10,
   "metadata": {
    "collapsed": false
   },
   "outputs": [
    {
     "name": "stdout",
     "output_type": "stream",
     "text": [
      "{'viewed': 388499, 'used': 2693}\n",
      "{'viewed': 233628, 'used': 1220}\n",
      "{'viewed': 537585, 'used': 1814}\n"
     ]
    }
   ],
   "source": [
    "for tag in tags_dict:\n",
    "    tag_bool = dsse_posts['Tags'].apply(lambda t: tag in t)\n",
    "    tags_dict[tag]['used'] = tag_bool.sum()\n",
    "    tags_dict[tag]['viewed'] = dsse_posts[tag_bool]['ViewCount'].sum()\n",
    "print(tags_dict['machine-learning'])\n",
    "print(tags_dict['deep-learning'])\n",
    "print(tags_dict['python'])"
   ]
  },
  {
   "cell_type": "code",
   "execution_count": 11,
   "metadata": {
    "collapsed": true
   },
   "outputs": [],
   "source": [
    "tag_df = pd.DataFrame(tags_dict)"
   ]
  },
  {
   "cell_type": "code",
   "execution_count": 12,
   "metadata": {
    "collapsed": true
   },
   "outputs": [],
   "source": [
    "tag_df = tag_df.transpose()"
   ]
  },
  {
   "cell_type": "code",
   "execution_count": 13,
   "metadata": {
    "collapsed": false
   },
   "outputs": [
    {
     "name": "stdout",
     "output_type": "stream",
     "text": [
      "                     used  viewed\n",
      ".net                    1     438\n",
      "3d-object-detection     1       7\n",
      "3d-reconstruction       9    1129\n",
      "ab-test                 6     153\n",
      "accuracy               89   15233\n"
     ]
    }
   ],
   "source": [
    "print(tag_df.head())"
   ]
  },
  {
   "cell_type": "code",
   "execution_count": 14,
   "metadata": {
    "collapsed": true
   },
   "outputs": [],
   "source": [
    "tag_df = tag_df.sort_values('used', ascending=False).copy()"
   ]
  },
  {
   "cell_type": "code",
   "execution_count": 15,
   "metadata": {
    "collapsed": false,
    "scrolled": false
   },
   "outputs": [
    {
     "name": "stdout",
     "output_type": "stream",
     "text": [
      "                  used  viewed\n",
      "machine-learning  2693  388499\n",
      "python            1814  537585\n",
      "deep-learning     1220  233628\n",
      "neural-network    1055  185367\n",
      "keras              935  268608\n"
     ]
    }
   ],
   "source": [
    "print(tag_df.head())"
   ]
  },
  {
   "cell_type": "code",
   "execution_count": 16,
   "metadata": {
    "collapsed": false
   },
   "outputs": [
    {
     "data": {
      "text/plain": [
       "<matplotlib.axes._subplots.AxesSubplot at 0x7f9aef7835f8>"
      ]
     },
     "execution_count": 16,
     "metadata": {},
     "output_type": "execute_result"
    },
    {
     "data": {
      "image/png": "[encoded data removed]",
      "text/plain": [
       "<matplotlib.figure.Figure at 0x7f9aefa3deb8>"
      ]
     },
     "metadata": {},
     "output_type": "display_data"
    }
   ],
   "source": [
    "%matplotlib inline\n",
    "tag_df[0:10].plot(kind='bar', y='used')"
   ]
  },
  {
   "cell_type": "code",
   "execution_count": 17,
   "metadata": {
    "collapsed": false
   },
   "outputs": [],
   "source": [
    "tag_df.sort_values('viewed',ascending=False,inplace=True)"
   ]
  },
  {
   "cell_type": "code",
   "execution_count": 18,
   "metadata": {
    "collapsed": false
   },
   "outputs": [
    {
     "name": "stdout",
     "output_type": "stream",
     "text": [
      "                  used  viewed\n",
      "python            1814  537585\n",
      "machine-learning  2693  388499\n",
      "keras              935  268608\n",
      "deep-learning     1220  233628\n",
      "pandas             354  201787\n"
     ]
    }
   ],
   "source": [
    "print(tag_df.head())"
   ]
  },
  {
   "cell_type": "code",
   "execution_count": 19,
   "metadata": {
    "collapsed": false
   },
   "outputs": [
    {
     "data": {
      "text/plain": [
       "<matplotlib.axes._subplots.AxesSubplot at 0x7f9aed6e9ef0>"
      ]
     },
     "execution_count": 19,
     "metadata": {},
     "output_type": "execute_result"
    },
    {
     "data": {
      "image/png": "[encoded data removed]",
      "text/plain": [
       "<matplotlib.figure.Figure at 0x7f9af14f0978>"
      ]
     },
     "metadata": {},
     "output_type": "display_data"
    }
   ],
   "source": [
    "%matplotlib inline\n",
    "tag_df[0:10].plot(kind='bar', y='viewed')"
   ]
  },
  {
   "cell_type": "code",
   "execution_count": 20,
   "metadata": {
    "collapsed": false
   },
   "outputs": [],
   "source": [
    "test = dsse_posts[dsse_posts[\"Tags\"].apply(\n",
    "    lambda tags: True if \"python\" in tags and \"machine-learning\" in tags else False)\n",
    "].size"
   ]
  },
  {
   "cell_type": "code",
   "execution_count": 21,
   "metadata": {
    "collapsed": true
   },
   "outputs": [],
   "source": [
    "per = test / dsse_posts.size"
   ]
  },
  {
   "cell_type": "code",
   "execution_count": 22,
   "metadata": {
    "collapsed": false
   },
   "outputs": [
    {
     "name": "stdout",
     "output_type": "stream",
     "text": [
      "0.05645435003959724\n"
     ]
    }
   ],
   "source": [
    "print(per)"
   ]
  },
  {
   "cell_type": "code",
   "execution_count": 23,
   "metadata": {
    "collapsed": true
   },
   "outputs": [],
   "source": [
    "test2 = dsse_posts[dsse_posts[\"Tags\"].apply(\n",
    "    lambda tags: True if \"r\" in tags and \"pandas\" in tags else False)\n",
    "].size"
   ]
  },
  {
   "cell_type": "code",
   "execution_count": 24,
   "metadata": {
    "collapsed": false
   },
   "outputs": [
    {
     "name": "stdout",
     "output_type": "stream",
     "text": [
      "0.00022626994003846588\n"
     ]
    }
   ],
   "source": [
    "per2 = test2/ dsse_posts.size\n",
    "print(per2)"
   ]
  },
  {
   "cell_type": "code",
   "execution_count": 25,
   "metadata": {
    "collapsed": true
   },
   "outputs": [],
   "source": [
    "questions = pd.read_csv('all_questions.csv', parse_dates=['CreationDate'])"
   ]
  },
  {
   "cell_type": "code",
   "execution_count": 26,
   "metadata": {
    "collapsed": true
   },
   "outputs": [],
   "source": [
    "questions['Tags'] = questions['Tags'].str.rstrip('>').str.replace('>',',').str.replace('<','').str.split(',')"
   ]
  },
  {
   "cell_type": "code",
   "execution_count": 27,
   "metadata": {
    "collapsed": false
   },
   "outputs": [
    {
     "name": "stdout",
     "output_type": "stream",
     "text": [
      "      Id        CreationDate  \\\n",
      "0  45416 2019-02-12 00:36:29   \n",
      "1  45418 2019-02-12 00:50:39   \n",
      "2  45422 2019-02-12 04:40:51   \n",
      "3  45426 2019-02-12 04:51:49   \n",
      "4  45427 2019-02-12 05:08:24   \n",
      "\n",
      "                                                Tags  \n",
      "0      [python, keras, tensorflow, cnn, probability]  \n",
      "1                                   [neural-network]  \n",
      "2                      [python, ibm-watson, chatbot]  \n",
      "3                                            [keras]  \n",
      "4  [r, predictive-modeling, machine-learning-mode...  \n"
     ]
    }
   ],
   "source": [
    "print(questions.head())"
   ]
  },
  {
   "cell_type": "code",
   "execution_count": 28,
   "metadata": {
    "collapsed": false
   },
   "outputs": [
    {
     "name": "stdout",
     "output_type": "stream",
     "text": [
      "      Id        CreationDate  \\\n",
      "0  45416 2019-02-12 00:36:29   \n",
      "1  45418 2019-02-12 00:50:39   \n",
      "2  45422 2019-02-12 04:40:51   \n",
      "3  45426 2019-02-12 04:51:49   \n",
      "4  45427 2019-02-12 05:08:24   \n",
      "\n",
      "                                                Tags  year  \n",
      "0      [python, keras, tensorflow, cnn, probability]  2019  \n",
      "1                                   [neural-network]  2019  \n",
      "2                      [python, ibm-watson, chatbot]  2019  \n",
      "3                                            [keras]  2019  \n",
      "4  [r, predictive-modeling, machine-learning-mode...  2019  \n"
     ]
    }
   ],
   "source": [
    "dl = ['deep-learning','neural-network','keras','tensorflow']\n",
    "questions['year'] = questions['CreationDate'].dt.strftime('%Y').astype(int)\n",
    "print(questions.head())"
   ]
  },
  {
   "cell_type": "code",
   "execution_count": 46,
   "metadata": {
    "collapsed": false,
    "scrolled": false
   },
   "outputs": [
    {
     "data": {
      "text/plain": [
       "2019    8810\n",
       "2018    5475\n",
       "2017    2957\n",
       "2016    2146\n",
       "2015    1167\n",
       "2014     562\n",
       "2020     459\n",
       "Name: year, dtype: int64"
      ]
     },
     "execution_count": 46,
     "metadata": {},
     "output_type": "execute_result"
    }
   ],
   "source": [
    "questions['year'].value_counts()"
   ]
  },
  {
   "cell_type": "code",
   "execution_count": 72,
   "metadata": {
    "collapsed": false,
    "scrolled": false
   },
   "outputs": [
    {
     "name": "stdout",
     "output_type": "stream",
     "text": [
      "{2016: {'dl-to-total': 0, 'deep-learning': 0, 'total': 0}, 2017: {'dl-to-total': 0, 'deep-learning': 0, 'total': 0}, 2018: {'dl-to-total': 0, 'deep-learning': 0, 'total': 0}, 2019: {'dl-to-total': 0, 'deep-learning': 0, 'total': 0}, 2020: {'dl-to-total': 0, 'deep-learning': 0, 'total': 0}, 2014: {'dl-to-total': 0, 'deep-learning': 0, 'total': 0}, 2015: {'dl-to-total': 0, 'deep-learning': 0, 'total': 0}}\n"
     ]
    }
   ],
   "source": [
    "post_dict = {}\n",
    "for y in questions['year']:\n",
    "    if y not in post_dict:\n",
    "        post_dict[y] = {'deep-learning':0, 'total':0, 'dl-to-total':0}\n",
    "print(post_dict)"
   ]
  },
  {
   "cell_type": "code",
   "execution_count": 73,
   "metadata": {
    "collapsed": false
   },
   "outputs": [
    {
     "name": "stdout",
     "output_type": "stream",
     "text": [
      "{2016: {'dl-to-total': 6.59, 'deep-learning': 566, 'total': 8584}, 2017: {'dl-to-total': 10.62, 'deep-learning': 1256, 'total': 11828}, 2018: {'dl-to-total': 12.64, 'deep-learning': 2768, 'total': 21900}, 2019: {'dl-to-total': 10.74, 'deep-learning': 3785, 'total': 35240}, 2020: {'dl-to-total': 9.91, 'deep-learning': 182, 'total': 1836}, 2014: {'dl-to-total': 1.51, 'deep-learning': 34, 'total': 2248}, 2015: {'dl-to-total': 2.83, 'deep-learning': 132, 'total': 4668}}\n"
     ]
    }
   ],
   "source": [
    "for y in post_dict:\n",
    "    for tag in dl:\n",
    "        bool_mask = (questions['Tags'].apply(lambda t: tag in t)) & (questions['year'] == y)\n",
    "        year_bool = questions['year'] == y\n",
    "        post_dict[y]['deep-learning'] += bool_mask.sum()\n",
    "        post_dict[y]['total'] += year_bool.sum()\n",
    "        post_dict[y]['dl-to-total'] = round(100 * (post_dict[y]['deep-learning'] / post_dict[y]['total']),2)\n",
    "print(post_dict)"
   ]
  },
  {
   "cell_type": "code",
   "execution_count": 87,
   "metadata": {
    "collapsed": true
   },
   "outputs": [],
   "source": [
    "dl_summary = pd.DataFrame(post_dict)"
   ]
  },
  {
   "cell_type": "code",
   "execution_count": 88,
   "metadata": {
    "collapsed": false,
    "scrolled": true
   },
   "outputs": [
    {
     "name": "stdout",
     "output_type": "stream",
     "text": [
      "                  2014     2015     2016      2017      2018      2019  \\\n",
      "deep-learning    34.00   132.00   566.00   1256.00   2768.00   3785.00   \n",
      "dl-to-total       1.51     2.83     6.59     10.62     12.64     10.74   \n",
      "total          2248.00  4668.00  8584.00  11828.00  21900.00  35240.00   \n",
      "\n",
      "                  2020  \n",
      "deep-learning   182.00  \n",
      "dl-to-total       9.91  \n",
      "total          1836.00  \n"
     ]
    }
   ],
   "source": [
    "print(dl_summary)"
   ]
  },
  {
   "cell_type": "code",
   "execution_count": 89,
   "metadata": {
    "collapsed": true
   },
   "outputs": [],
   "source": [
    "dl_summary = dl_summary.transpose()"
   ]
  },
  {
   "cell_type": "code",
   "execution_count": 90,
   "metadata": {
    "collapsed": false
   },
   "outputs": [
    {
     "name": "stdout",
     "output_type": "stream",
     "text": [
      "      deep-learning  dl-to-total    total\n",
      "2014           34.0         1.51   2248.0\n",
      "2015          132.0         2.83   4668.0\n",
      "2016          566.0         6.59   8584.0\n",
      "2017         1256.0        10.62  11828.0\n",
      "2018         2768.0        12.64  21900.0\n",
      "2019         3785.0        10.74  35240.0\n",
      "2020          182.0         9.91   1836.0\n"
     ]
    }
   ],
   "source": [
    "print(dl_summary)"
   ]
  },
  {
   "cell_type": "code",
   "execution_count": null,
   "metadata": {
    "collapsed": true
   },
   "outputs": [],
   "source": []
  }
 ],
 "metadata": {
  "kernelspec": {
   "display_name": "Python 3",
   "language": "python",
   "name": "python3"
  },
  "language_info": {
   "codemirror_mode": {
    "name": "ipython",
    "version": 3
   },
   "file_extension": ".py",
   "mimetype": "text/x-python",
   "name": "python",
   "nbconvert_exporter": "python",
   "pygments_lexer": "ipython3",
   "version": "3.4.3"
  }
 },
 "nbformat": 4,
 "nbformat_minor": 2
}
